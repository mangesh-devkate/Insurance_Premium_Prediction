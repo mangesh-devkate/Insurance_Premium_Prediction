{
 "cells": [
  {
   "cell_type": "markdown",
   "id": "a0bff247",
   "metadata": {},
   "source": [
    "## Problem Statement"
   ]
  },
  {
   "cell_type": "markdown",
   "id": "b588be28",
   "metadata": {},
   "source": [
    "The main goal of this project is to create an automated system to estimate the annual medical expenditure for new customers, using information such as their age, sex, BMI, children, smoking habits and region of residence. Estimates from your system will be used to determine the annual insurance premium (amount paid every month) offered to the customer.\n",
    "\n",
    "We have data in CSV file it consists customers individual information likeage, sex, BMI, Children, smoking habits, region of residence and actual medical expenses incurred by over 1300 customers.\n",
    "\n",
    "Dataset source: Kaggle"
   ]
  },
  {
   "cell_type": "markdown",
   "id": "aefee58c",
   "metadata": {},
   "source": [
    "## Importing Libraries"
   ]
  },
  {
   "cell_type": "code",
   "execution_count": null,
   "id": "c0a99a37",
   "metadata": {},
   "outputs": [],
   "source": [
    "import numpy as np\n",
    "import pandas as pd\n",
    "\n",
    "from matplotlib import pyplot as plt\n",
    "import seaborn as sns\n",
    "import plotly.express as px\n",
    "\n",
    "%matplotlib inline\n",
    "\n",
    "from sklearn.preprocessing import MinMaxScaler, StandardScaler, LabelEncoder, OneHotEncoder, MinMaxScaler, StandardScaler\n",
    "from sklearn.model_selection import train_test_split, GridSearchCV, RandomizedSearchCV\n",
    "\n",
    "from sklearn.linear_model import LinearRegression\n",
    "from sklearn.neighbors import KNeighborsRegressor\n",
    "from sklearn.tree import DecisionTreeRegressor\n",
    "from sklearn.ensemble import RandomForestRegressor\n",
    "from sklearn.ensemble import AdaBoostRegressor\n",
    "from sklearn.ensemble import GradientBoostingRegressor\n",
    "from xgboost import XGBRegressor\n",
    "from sklearn.svm import SVR\n",
    "\n",
    "from sklearn.metrics import mean_squared_error, mean_absolute_error, r2_score\n",
    "\n",
    "import warnings\n",
    "warnings.filterwarnings('ignore')"
   ]
  },
  {
   "cell_type": "markdown",
   "id": "10f8da5b",
   "metadata": {},
   "source": [
    "## Data Gathering"
   ]
  },
  {
   "cell_type": "code",
   "execution_count": null,
   "id": "38f14e0e",
   "metadata": {
    "scrolled": true
   },
   "outputs": [],
   "source": [
    "df = pd.read_csv('insurance_premium_prediction.csv')"
   ]
  },
  {
   "cell_type": "code",
   "execution_count": null,
   "id": "0749da7f",
   "metadata": {},
   "outputs": [],
   "source": [
    "df"
   ]
  },
  {
   "cell_type": "markdown",
   "id": "60232376",
   "metadata": {},
   "source": [
    "## Exploratory Data Analysis"
   ]
  },
  {
   "cell_type": "code",
   "execution_count": null,
   "id": "6e59b7df",
   "metadata": {
    "scrolled": true
   },
   "outputs": [],
   "source": [
    "df.head()"
   ]
  },
  {
   "cell_type": "code",
   "execution_count": null,
   "id": "0cd03958",
   "metadata": {},
   "outputs": [],
   "source": [
    "df.index"
   ]
  },
  {
   "cell_type": "code",
   "execution_count": null,
   "id": "64449648",
   "metadata": {},
   "outputs": [],
   "source": [
    "df.columns"
   ]
  },
  {
   "cell_type": "code",
   "execution_count": null,
   "id": "0abe2dad",
   "metadata": {},
   "outputs": [],
   "source": [
    "df.describe()"
   ]
  },
  {
   "cell_type": "code",
   "execution_count": null,
   "id": "f16fd49f",
   "metadata": {},
   "outputs": [],
   "source": [
    "df.describe(include='O')"
   ]
  },
  {
   "cell_type": "code",
   "execution_count": null,
   "id": "a0dd8fa3",
   "metadata": {},
   "outputs": [],
   "source": [
    "df.info()"
   ]
  },
  {
   "cell_type": "code",
   "execution_count": null,
   "id": "ed35cc91",
   "metadata": {
    "scrolled": true
   },
   "outputs": [],
   "source": [
    "df['age'].unique()"
   ]
  },
  {
   "cell_type": "code",
   "execution_count": null,
   "id": "e2038129",
   "metadata": {},
   "outputs": [],
   "source": [
    "df['age'].nunique()"
   ]
  },
  {
   "cell_type": "code",
   "execution_count": null,
   "id": "a82f7732",
   "metadata": {},
   "outputs": [],
   "source": [
    "df['age'].value_counts()"
   ]
  },
  {
   "cell_type": "code",
   "execution_count": null,
   "id": "7d70b7d7",
   "metadata": {},
   "outputs": [],
   "source": [
    "fig = px.histogram(df, \n",
    "                   x='age', \n",
    "                   marginal='box', \n",
    "                   nbins=47, \n",
    "                   title='Distribution of Age')\n",
    "fig.update_layout(bargap=0.1)\n",
    "fig.show()"
   ]
  },
  {
   "cell_type": "code",
   "execution_count": null,
   "id": "76de7beb",
   "metadata": {},
   "outputs": [],
   "source": [
    "df['sex'].value_counts()"
   ]
  },
  {
   "cell_type": "code",
   "execution_count": null,
   "id": "31525f64",
   "metadata": {},
   "outputs": [],
   "source": [
    "fig = px.histogram(df, \n",
    "                   x='sex',  \n",
    "                   title='sex')\n",
    "fig.update_layout(bargap=0.1)\n",
    "fig.show()"
   ]
  },
  {
   "cell_type": "code",
   "execution_count": null,
   "id": "6616e883",
   "metadata": {},
   "outputs": [],
   "source": [
    "df['bmi'].nunique()"
   ]
  },
  {
   "cell_type": "code",
   "execution_count": null,
   "id": "d89e2ba2",
   "metadata": {},
   "outputs": [],
   "source": [
    "fig = px.histogram(df, \n",
    "                   x='bmi', \n",
    "                   marginal='box', \n",
    "                   title='Distribution of bmi')\n",
    "fig.update_layout(bargap=0.1)\n",
    "fig.show()"
   ]
  },
  {
   "cell_type": "code",
   "execution_count": null,
   "id": "ea9f5fdd",
   "metadata": {
    "scrolled": true
   },
   "outputs": [],
   "source": [
    "df.nunique()"
   ]
  },
  {
   "cell_type": "code",
   "execution_count": null,
   "id": "c3e872ff",
   "metadata": {},
   "outputs": [],
   "source": [
    "fig = px.histogram(df, \n",
    "                   x='children',  \n",
    "                   title='distribution of children')\n",
    "fig.update_layout(bargap=0.1)\n",
    "fig.show()"
   ]
  },
  {
   "cell_type": "code",
   "execution_count": null,
   "id": "74252484",
   "metadata": {},
   "outputs": [],
   "source": [
    "fig = px.histogram(df, \n",
    "                   x='smoker',  \n",
    "                   title='distribution of smoker')\n",
    "fig.update_layout(bargap=0.1)\n",
    "fig.show()"
   ]
  },
  {
   "cell_type": "code",
   "execution_count": null,
   "id": "35899c8f",
   "metadata": {},
   "outputs": [],
   "source": [
    "fig = px.histogram(df, \n",
    "                   x='region',  \n",
    "                   title='distribution of region')\n",
    "fig.update_layout(bargap=0.1)\n",
    "fig.show()"
   ]
  },
  {
   "cell_type": "code",
   "execution_count": null,
   "id": "b515c77c",
   "metadata": {},
   "outputs": [],
   "source": [
    "fig = px.histogram(df, \n",
    "                   x='expenses',  \n",
    "                   marginal='box',\n",
    "                   title='distribution of expenses')\n",
    "\n",
    "fig.update_layout(bargap=0.1)\n",
    "fig.show()"
   ]
  },
  {
   "cell_type": "code",
   "execution_count": null,
   "id": "4af3e67f",
   "metadata": {
    "scrolled": true
   },
   "outputs": [],
   "source": [
    "fig = px.histogram(df,\n",
    "                    x='expenses',\n",
    "                    marginal='box',\n",
    "                    color='sex',\n",
    "                    color_discrete_sequence=['green', 'orange'],\n",
    "                    title=\"Annual Medical Expenses\")\n",
    "fig.update_layout(bargap=0.1)\n",
    "fig.show()               \n"
   ]
  },
  {
   "cell_type": "code",
   "execution_count": null,
   "id": "6e89b6a0",
   "metadata": {},
   "outputs": [],
   "source": [
    "fig = px.histogram(df,\n",
    "                    x='expenses',\n",
    "                    marginal='box',\n",
    "                    color='children',\n",
    "                    color_discrete_sequence=['green', 'orange','red','blue','purple','yellow'],\n",
    "                    title=\"Annual Medical Expenses\")\n",
    "\n",
    "fig.update_layout(bargap=0.1)\n",
    "fig.show()    "
   ]
  },
  {
   "cell_type": "code",
   "execution_count": null,
   "id": "9c2415d9",
   "metadata": {
    "scrolled": true
   },
   "outputs": [],
   "source": [
    "fig = px.histogram(df,\n",
    "                    x='expenses',\n",
    "                    marginal='box',\n",
    "                    color='smoker',\n",
    "                    color_discrete_sequence=['green', 'orange'],\n",
    "                    title=\"Annual Medical Expenses\")\n",
    "\n",
    "fig.update_layout(bargap=0.1)\n",
    "fig.show()             "
   ]
  },
  {
   "cell_type": "code",
   "execution_count": null,
   "id": "e9b768bc",
   "metadata": {},
   "outputs": [],
   "source": [
    "fig = px.histogram(df,\n",
    "                    x='expenses',\n",
    "                    marginal='box',\n",
    "                    color='region',\n",
    "                    color_discrete_sequence=['green', 'orange','red', 'blue'],\n",
    "                    title=\"Annual Medical Expenses\")\n",
    "\n",
    "fig.update_layout(bargap=0.1)\n",
    "fig.show()    "
   ]
  },
  {
   "cell_type": "code",
   "execution_count": null,
   "id": "6f2504a0",
   "metadata": {},
   "outputs": [],
   "source": [
    "fig = px.histogram(df, x='smoker', color='sex', title=\"Smoker\")\n",
    "\n",
    "fig.update_layout(bargap=0.1)\n",
    "fig.show()    "
   ]
  },
  {
   "cell_type": "code",
   "execution_count": null,
   "id": "19e3b537",
   "metadata": {},
   "outputs": [],
   "source": [
    "fig = px.histogram(df, x='region', color='smoker', title=\"region\")\n",
    "\n",
    "fig.update_layout(bargap=0.1)\n",
    "fig.show()    "
   ]
  },
  {
   "cell_type": "code",
   "execution_count": null,
   "id": "6628bccd",
   "metadata": {},
   "outputs": [],
   "source": [
    "fig = px.scatter(df,\n",
    "                x=\"age\",\n",
    "                y=\"expenses\",\n",
    "                color=\"smoker\",\n",
    "                title=\"Age vs Expenses\")\n",
    "fig.show()                \n"
   ]
  },
  {
   "cell_type": "code",
   "execution_count": null,
   "id": "e5820100",
   "metadata": {},
   "outputs": [],
   "source": [
    "fig = px.scatter(df,\n",
    "                x=\"bmi\",\n",
    "                y=\"expenses\",\n",
    "                color=\"smoker\",\n",
    "                title=\"BMI Vs Expenses\")\n",
    "\n",
    "fig.show()                "
   ]
  },
  {
   "cell_type": "code",
   "execution_count": null,
   "id": "d9d94373",
   "metadata": {},
   "outputs": [],
   "source": [
    "df.corr()"
   ]
  },
  {
   "cell_type": "code",
   "execution_count": null,
   "id": "5ebb0370",
   "metadata": {},
   "outputs": [],
   "source": [
    "plt.figure(figsize=(10,7))\n",
    "sns.heatmap(df.corr(), annot=True)\n",
    "plt.title('Correlation Matrix')"
   ]
  },
  {
   "cell_type": "markdown",
   "id": "2cd8e0c3",
   "metadata": {},
   "source": [
    "## Feature Engineering"
   ]
  },
  {
   "cell_type": "code",
   "execution_count": null,
   "id": "97b1e6aa",
   "metadata": {
    "scrolled": true
   },
   "outputs": [],
   "source": [
    "df.isna().sum()"
   ]
  },
  {
   "cell_type": "code",
   "execution_count": null,
   "id": "169da913",
   "metadata": {},
   "outputs": [],
   "source": [
    "df[['expenses']].head(5)"
   ]
  },
  {
   "cell_type": "code",
   "execution_count": null,
   "id": "c8580809",
   "metadata": {},
   "outputs": [],
   "source": [
    "df.head()"
   ]
  },
  {
   "cell_type": "code",
   "execution_count": null,
   "id": "d924c93d",
   "metadata": {
    "scrolled": true
   },
   "outputs": [],
   "source": [
    "df['sex'].value_counts()"
   ]
  },
  {
   "cell_type": "code",
   "execution_count": null,
   "id": "d14e93ab",
   "metadata": {},
   "outputs": [],
   "source": [
    "df['sex'].replace(to_replace = 'male', value=1,inplace=True)\n",
    "df['sex'].replace(to_replace = 'female', value=0,inplace=True)"
   ]
  },
  {
   "cell_type": "code",
   "execution_count": null,
   "id": "f8e61c6b",
   "metadata": {},
   "outputs": [],
   "source": [
    "df['smoker'].value_counts()"
   ]
  },
  {
   "cell_type": "code",
   "execution_count": null,
   "id": "ff5a32e8",
   "metadata": {},
   "outputs": [],
   "source": [
    "df['smoker'].replace(to_replace = 'yes', value=1,inplace=True)\n",
    "df['smoker'].replace(to_replace = 'no', value=0,inplace=True)"
   ]
  },
  {
   "cell_type": "code",
   "execution_count": null,
   "id": "4753db94",
   "metadata": {},
   "outputs": [],
   "source": [
    "df.head()"
   ]
  },
  {
   "cell_type": "code",
   "execution_count": null,
   "id": "7cfaa4b9",
   "metadata": {
    "scrolled": true
   },
   "outputs": [],
   "source": [
    "df['region'].value_counts()"
   ]
  },
  {
   "cell_type": "code",
   "execution_count": null,
   "id": "887f2266",
   "metadata": {},
   "outputs": [],
   "source": [
    "le=LabelEncoder()\n",
    "df['region'] = le.fit_transform(df['region'])"
   ]
  },
  {
   "cell_type": "code",
   "execution_count": null,
   "id": "3801404b",
   "metadata": {
    "scrolled": true
   },
   "outputs": [],
   "source": [
    "df.head()"
   ]
  },
  {
   "cell_type": "code",
   "execution_count": null,
   "id": "2295ca45",
   "metadata": {},
   "outputs": [],
   "source": [
    "le.classes_"
   ]
  },
  {
   "cell_type": "code",
   "execution_count": null,
   "id": "362e0f9a",
   "metadata": {
    "scrolled": true
   },
   "outputs": [],
   "source": [
    "plt.figure(figsize=(11,7))\n",
    "\n",
    "plt.subplot(2,2,1)\n",
    "sns.distplot(df['age'])\n",
    "\n",
    "plt.subplot(2,2,2)\n",
    "sns.boxplot(df['age'])\n",
    "\n",
    "plt.subplot(2,2,3)\n",
    "sns.distplot(df['bmi'])\n",
    "\n",
    "plt.subplot(2,2,4)\n",
    "sns.boxplot(df['bmi'])"
   ]
  },
  {
   "cell_type": "markdown",
   "id": "a5d7b65a",
   "metadata": {},
   "source": [
    "#### As shown in above plots there are no outliers in age column, there are outliers in the bmi column, let's remove it"
   ]
  },
  {
   "cell_type": "code",
   "execution_count": null,
   "id": "5caa1df8",
   "metadata": {},
   "outputs": [],
   "source": [
    "df.describe()"
   ]
  },
  {
   "cell_type": "code",
   "execution_count": null,
   "id": "b9aa0f66",
   "metadata": {},
   "outputs": [],
   "source": [
    "q1 = df['bmi'].quantile(0.25)\n",
    "q3 = df['bmi'].quantile(0.75)\n",
    "iqr = q3 - q1"
   ]
  },
  {
   "cell_type": "code",
   "execution_count": null,
   "id": "c4682d76",
   "metadata": {},
   "outputs": [],
   "source": [
    "q1"
   ]
  },
  {
   "cell_type": "code",
   "execution_count": null,
   "id": "0410ee94",
   "metadata": {
    "scrolled": true
   },
   "outputs": [],
   "source": [
    "q3"
   ]
  },
  {
   "cell_type": "code",
   "execution_count": null,
   "id": "29206afb",
   "metadata": {},
   "outputs": [],
   "source": [
    "iqr"
   ]
  },
  {
   "cell_type": "code",
   "execution_count": null,
   "id": "2a971993",
   "metadata": {},
   "outputs": [],
   "source": [
    "upper_limit = q3 + 1.5*iqr\n",
    "lower_limit = q1 - 1.5*iqr\n",
    "outliers = df[(df['bmi']>upper_limit) | (df['bmi']<lower_limit)]"
   ]
  },
  {
   "cell_type": "code",
   "execution_count": null,
   "id": "88ff49d9",
   "metadata": {
    "scrolled": true
   },
   "outputs": [],
   "source": [
    "upper_limit"
   ]
  },
  {
   "cell_type": "code",
   "execution_count": null,
   "id": "4e59d62f",
   "metadata": {
    "scrolled": true
   },
   "outputs": [],
   "source": [
    "lower_limit"
   ]
  },
  {
   "cell_type": "code",
   "execution_count": null,
   "id": "0ad68c8a",
   "metadata": {},
   "outputs": [],
   "source": [
    "outliers"
   ]
  },
  {
   "cell_type": "code",
   "execution_count": null,
   "id": "1d8bd3e4",
   "metadata": {},
   "outputs": [],
   "source": [
    "df.head()"
   ]
  },
  {
   "cell_type": "code",
   "execution_count": null,
   "id": "b79195f2",
   "metadata": {},
   "outputs": [],
   "source": [
    "df['BMI'] = np.where(\n",
    "    df['bmi']>upper_limit,\n",
    "    upper_limit,\n",
    "    np.where(\n",
    "        df['bmi']<lower_limit,\n",
    "        lower_limit,\n",
    "        df['bmi']\n",
    "    )\n",
    ")"
   ]
  },
  {
   "cell_type": "code",
   "execution_count": null,
   "id": "d39e2ecc",
   "metadata": {},
   "outputs": [],
   "source": [
    "df.head()"
   ]
  },
  {
   "cell_type": "code",
   "execution_count": null,
   "id": "1cc28445",
   "metadata": {
    "scrolled": true
   },
   "outputs": [],
   "source": [
    "plt.figure(figsize=(10,5))\n",
    "sns.boxplot(df['BMI'])"
   ]
  },
  {
   "cell_type": "markdown",
   "id": "2dc85987",
   "metadata": {},
   "source": [
    "#### As shown in the above boxplot, we do not have outliers in the new_bmi column"
   ]
  },
  {
   "cell_type": "code",
   "execution_count": null,
   "id": "683100ec",
   "metadata": {},
   "outputs": [],
   "source": [
    "df.corr()"
   ]
  },
  {
   "cell_type": "code",
   "execution_count": null,
   "id": "324e1d59",
   "metadata": {},
   "outputs": [],
   "source": [
    "df.drop(columns=['bmi'],inplace=True)"
   ]
  },
  {
   "cell_type": "code",
   "execution_count": null,
   "id": "50775378",
   "metadata": {},
   "outputs": [],
   "source": [
    "df.head()"
   ]
  },
  {
   "cell_type": "code",
   "execution_count": null,
   "id": "dcb36d34",
   "metadata": {},
   "outputs": [],
   "source": [
    "df=df[['age','sex', 'BMI','children','smoker','region','expenses']]"
   ]
  },
  {
   "cell_type": "code",
   "execution_count": null,
   "id": "b3699056",
   "metadata": {},
   "outputs": [],
   "source": [
    "df.head()"
   ]
  },
  {
   "cell_type": "code",
   "execution_count": null,
   "id": "cf853b2c",
   "metadata": {},
   "outputs": [],
   "source": [
    "plt.figure(figsize=(11,6))\n",
    "sns.heatmap(df.corr(),annot=True)"
   ]
  },
  {
   "cell_type": "code",
   "execution_count": null,
   "id": "795305b9",
   "metadata": {},
   "outputs": [],
   "source": [
    "df.head()"
   ]
  },
  {
   "cell_type": "markdown",
   "id": "eb632bc6",
   "metadata": {},
   "source": [
    "## Splitting Data"
   ]
  },
  {
   "cell_type": "code",
   "execution_count": null,
   "id": "c9d9d860",
   "metadata": {},
   "outputs": [],
   "source": [
    "X=df.drop('expenses',axis=1)\n",
    "y=df['expenses']"
   ]
  },
  {
   "cell_type": "code",
   "execution_count": null,
   "id": "b8acfe68",
   "metadata": {},
   "outputs": [],
   "source": [
    "X.shape"
   ]
  },
  {
   "cell_type": "code",
   "execution_count": null,
   "id": "086c201e",
   "metadata": {},
   "outputs": [],
   "source": [
    "y.shape"
   ]
  },
  {
   "cell_type": "code",
   "execution_count": null,
   "id": "d0974d73",
   "metadata": {},
   "outputs": [],
   "source": [
    "X_train, X_test, y_train, y_test = train_test_split(X,y, test_size=0.2, random_state=42)"
   ]
  },
  {
   "cell_type": "code",
   "execution_count": null,
   "id": "16a6de16",
   "metadata": {},
   "outputs": [],
   "source": [
    "X_train.shape"
   ]
  },
  {
   "cell_type": "code",
   "execution_count": null,
   "id": "87c1cadb",
   "metadata": {},
   "outputs": [],
   "source": [
    "X_test.shape"
   ]
  },
  {
   "cell_type": "code",
   "execution_count": null,
   "id": "3d4231aa",
   "metadata": {},
   "outputs": [],
   "source": [
    "y_train.shape"
   ]
  },
  {
   "cell_type": "code",
   "execution_count": null,
   "id": "b642d584",
   "metadata": {},
   "outputs": [],
   "source": [
    "y_test.shape"
   ]
  },
  {
   "cell_type": "markdown",
   "id": "995bf32e",
   "metadata": {},
   "source": [
    "## Linear Regression"
   ]
  },
  {
   "cell_type": "code",
   "execution_count": null,
   "id": "5c6c3110",
   "metadata": {},
   "outputs": [],
   "source": [
    "# instantiating model\n",
    "lr = LinearRegression()"
   ]
  },
  {
   "cell_type": "code",
   "execution_count": null,
   "id": "74386604",
   "metadata": {},
   "outputs": [],
   "source": [
    "# model training\n",
    "lr_model = lr.fit(X_train, y_train)"
   ]
  },
  {
   "cell_type": "code",
   "execution_count": null,
   "id": "fabe3322",
   "metadata": {},
   "outputs": [],
   "source": [
    "# prediction\n",
    "lr_y_pred = lr_model.predict(X_test)"
   ]
  },
  {
   "cell_type": "code",
   "execution_count": null,
   "id": "a610af04",
   "metadata": {},
   "outputs": [],
   "source": [
    "lr_y_pred[:5]"
   ]
  },
  {
   "cell_type": "code",
   "execution_count": null,
   "id": "0f1bf4dd",
   "metadata": {
    "scrolled": true
   },
   "outputs": [],
   "source": [
    "y_test[:5]"
   ]
  },
  {
   "cell_type": "code",
   "execution_count": null,
   "id": "d00a5aa3",
   "metadata": {},
   "outputs": [],
   "source": [
    "mse=mean_squared_error(y_test,lr_y_pred)\n",
    "mae=mean_absolute_error(y_test,lr_y_pred)\n",
    "rmse = np.sqrt(mse)\n",
    "r2score = r2_score(y_test,lr_y_pred)"
   ]
  },
  {
   "cell_type": "code",
   "execution_count": null,
   "id": "1169593c",
   "metadata": {},
   "outputs": [],
   "source": [
    "print('linear regression testing accuracy :')\n",
    "print(f'mse: {mse}')\n",
    "print(f'mae: {mae}')\n",
    "print(f'rmse: {rmse}')\n",
    "print(f'r2 score: {r2score}')"
   ]
  },
  {
   "cell_type": "markdown",
   "id": "d41cb523",
   "metadata": {},
   "source": [
    "# Decision Tree"
   ]
  },
  {
   "cell_type": "code",
   "execution_count": null,
   "id": "d6ccf512",
   "metadata": {},
   "outputs": [],
   "source": [
    "# decision tree algorithm testing accuracy\n",
    "dtree = DecisionTreeRegressor()\n",
    "dtree_model = dtree.fit(X_train, y_train)\n",
    "dtree_y_pred = dtree_model.predict(X_test)\n",
    "\n",
    "mse=mean_squared_error(y_test,dtree_y_pred)\n",
    "mae=mean_absolute_error(y_test,dtree_y_pred)\n",
    "rmse = np.sqrt(mse)\n",
    "r2score = r2_score(y_test,dtree_y_pred)\n",
    "print('decision tree algorithm testing accuracy :')\n",
    "print(f'mse: {mse}')\n",
    "print(f'mae: {mae}')\n",
    "print(f'rmse: {rmse}')\n",
    "print(f'r2 score: {r2score}')"
   ]
  },
  {
   "cell_type": "markdown",
   "id": "9f32ff79",
   "metadata": {},
   "source": [
    "# Random Forest"
   ]
  },
  {
   "cell_type": "code",
   "execution_count": null,
   "id": "bfd5eafe",
   "metadata": {
    "scrolled": true
   },
   "outputs": [],
   "source": [
    "# random forest algorithm testing accuracy\n",
    "rf = RandomForestRegressor()\n",
    "rf_model = rf.fit(X_train, y_train)\n",
    "rf_y_pred = rf_model.predict(X_test)\n",
    "\n",
    "mse=mean_squared_error(y_test,rf_y_pred)\n",
    "mae=mean_absolute_error(y_test,rf_y_pred)\n",
    "rmse = np.sqrt(mse)\n",
    "r2score = r2_score(y_test,rf_y_pred)\n",
    "print('random forest algorithm testing accuracy :')\n",
    "print(f'mse: {mse}')\n",
    "print(f'mae: {mae}')\n",
    "print(f'rmse: {rmse}')\n",
    "print(f'r2 score: {r2score}')"
   ]
  },
  {
   "cell_type": "markdown",
   "id": "d1ad8dd6",
   "metadata": {},
   "source": [
    "# Adaboost"
   ]
  },
  {
   "cell_type": "code",
   "execution_count": null,
   "id": "f1417235",
   "metadata": {},
   "outputs": [],
   "source": [
    "# adaboost algorithm testing accuracy\n",
    "ab = AdaBoostRegressor()\n",
    "ab_model = ab.fit(X_train, y_train)\n",
    "ab_y_pred = ab_model.predict(X_test)\n",
    "\n",
    "mse=mean_squared_error(y_test,ab_y_pred)\n",
    "mae=mean_absolute_error(y_test,ab_y_pred)\n",
    "rmse = np.sqrt(mse)\n",
    "r2score = r2_score(y_test,ab_y_pred)\n",
    "print('Adaboost algorithm testing accuracy :')\n",
    "print(f'mse: {mse}')\n",
    "print(f'mae: {mae}')\n",
    "print(f'rmse: {rmse}')\n",
    "print(f'r2 score: {r2score}')"
   ]
  },
  {
   "cell_type": "markdown",
   "id": "58401974",
   "metadata": {},
   "source": [
    "## Gradient boosting"
   ]
  },
  {
   "cell_type": "code",
   "execution_count": null,
   "id": "384a0e64",
   "metadata": {},
   "outputs": [],
   "source": [
    "# gradient boosting algorithm testing accuracy\n",
    "gb = GradientBoostingRegressor()\n",
    "gb_model = gb.fit(X_train, y_train)\n",
    "gb_y_pred = gb_model.predict(X_test)\n",
    "\n",
    "mse=mean_squared_error(y_test,gb_y_pred)\n",
    "mae=mean_absolute_error(y_test,gb_y_pred)\n",
    "rmse = np.sqrt(mse)\n",
    "r2score = r2_score(y_test,gb_y_pred)\n",
    "print('gradient boosting algorithm testing accuracy :')\n",
    "print(f'mse: {mse}')\n",
    "print(f'mae: {mae}')\n",
    "print(f'rmse: {rmse}')\n",
    "print(f'r2 score: {r2score}')"
   ]
  },
  {
   "cell_type": "markdown",
   "id": "c345c42a",
   "metadata": {},
   "source": [
    "## XGB "
   ]
  },
  {
   "cell_type": "code",
   "execution_count": null,
   "id": "f2cd874e",
   "metadata": {},
   "outputs": [],
   "source": [
    "# xgb algorithm testing accuracy\n",
    "xgb = XGBRegressor()\n",
    "xgb_model = xgb.fit(X_train, y_train)\n",
    "xgb_y_pred = xgb_model.predict(X_test)\n",
    "\n",
    "mse=mean_squared_error(y_test,xgb_y_pred)\n",
    "mae=mean_absolute_error(y_test,xgb_y_pred)\n",
    "rmse = np.sqrt(mse)\n",
    "r2score = r2_score(y_test,xgb_y_pred)\n",
    "print('xgb regressor algorithm testing accuracy :')\n",
    "print(f'mse: {mse}')\n",
    "print(f'mae: {mae}')\n",
    "print(f'rmse: {rmse}')\n",
    "print(f'r2 score: {r2score}')"
   ]
  },
  {
   "cell_type": "markdown",
   "id": "ca79618b",
   "metadata": {},
   "source": [
    "#### Gradient boosting giving best accuracy..Let's check testing and training accuracy using Gradient boosting"
   ]
  },
  {
   "cell_type": "code",
   "execution_count": null,
   "id": "ea73c2a1",
   "metadata": {},
   "outputs": [],
   "source": [
    "# gradient boosting algorithm testing accuracy\n",
    "gb = GradientBoostingRegressor()\n",
    "gb_model = gb.fit(X_train, y_train)\n",
    "gb_y_pred = gb_model.predict(X_test)\n",
    "\n",
    "mse=mean_squared_error(y_test,gb_y_pred)\n",
    "mae=mean_absolute_error(y_test,gb_y_pred)\n",
    "rmse = np.sqrt(mse)\n",
    "r2score = r2_score(y_test,gb_y_pred)\n",
    "print('gradient boosting algorithm testing accuracy :')\n",
    "print(f'mse: {mse}')\n",
    "print(f'mae: {mae}')\n",
    "print(f'rmse: {rmse}')\n",
    "print(f'r2 score: {r2score}')"
   ]
  },
  {
   "cell_type": "code",
   "execution_count": null,
   "id": "96202869",
   "metadata": {},
   "outputs": [],
   "source": [
    "# gradient boosting algorithm training accuracy\n",
    "\n",
    "gb_y_pred_train = gb_model.predict(X_train)\n",
    "\n",
    "mse=mean_squared_error(y_train, gb_y_pred_train)\n",
    "mae=mean_absolute_error(y_train, gb_y_pred_train)\n",
    "rmse = np.sqrt(mse)\n",
    "r2score = r2_score(y_train,gb_y_pred_train)\n",
    "print('gradient boosting algorithm training accuracy :')\n",
    "print(f'mse: {mse}')\n",
    "print(f'mae: {mae}')\n",
    "print(f'rmse: {rmse}')\n",
    "print(f'r2 score: {r2score}')"
   ]
  },
  {
   "cell_type": "code",
   "execution_count": null,
   "id": "385df027",
   "metadata": {},
   "outputs": [],
   "source": [
    "# dumping the model object\n",
    "import pickle\n",
    "model = pickle.dump(gb_model,open('model.pkl','wb'))    "
   ]
  },
  {
   "cell_type": "markdown",
   "id": "26bc40d4",
   "metadata": {},
   "source": [
    "## user defined function"
   ]
  },
  {
   "cell_type": "code",
   "execution_count": null,
   "id": "d00259d6",
   "metadata": {},
   "outputs": [],
   "source": [
    "def prediction(user_data):\n",
    "    result = gb_model.predict([user_data])\n",
    "    return result\n",
    "\n",
    "user_data = X_test.iloc[1][::]\n",
    "res = prediction(user_data)\n",
    "res"
   ]
  },
  {
   "cell_type": "code",
   "execution_count": null,
   "id": "b89de767",
   "metadata": {},
   "outputs": [],
   "source": []
  }
 ],
 "metadata": {
  "kernelspec": {
   "display_name": "Python 3",
   "language": "python",
   "name": "python3"
  },
  "language_info": {
   "codemirror_mode": {
    "name": "ipython",
    "version": 3
   },
   "file_extension": ".py",
   "mimetype": "text/x-python",
   "name": "python",
   "nbconvert_exporter": "python",
   "pygments_lexer": "ipython3",
   "version": "3.8.8"
  }
 },
 "nbformat": 4,
 "nbformat_minor": 5
}
